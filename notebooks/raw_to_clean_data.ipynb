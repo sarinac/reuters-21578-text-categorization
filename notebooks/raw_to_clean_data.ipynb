{
 "cells": [
  {
   "cell_type": "markdown",
   "source": [
    "# Parse Data\n",
    "1. Read each SGML file in the `data/raw` directory of the S3 bucket.\n",
    "2. Parse each file to get the text body, title, topics, and other content.\n",
    "3. Store parsed data as a JSON in the `data/clean` directory of the same S3 bucket."
   ],
   "metadata": {}
  },
  {
   "cell_type": "markdown",
   "source": [
    "## Download data"
   ],
   "metadata": {}
  },
  {
   "cell_type": "code",
   "execution_count": 1,
   "source": [
    "# Unzipped locally\n",
    "# This could be done in S3 instead\n",
    "\n",
    "# import tarfile\n",
    "# import os\n",
    "\n",
    "# TARFILE_NAME = \"Reuters_classification_data.tar.gz\"\n",
    "# FOLDER_NAME = \"raw\"\n",
    "\n",
    "# root_directory = os.path.dirname(os.getcwd()) + \"/data\"\n",
    "# archive_path = os.path.join(root_directory, TARFILE_NAME) \n",
    "# data_path = os.path.join(root_directory, FOLDER_NAME) \n",
    "\n",
    "# Unzip tarfile and put individual text files into the \"data\" folder\n",
    "# tarfile.open(archive_path, 'r:gz').extractall(data_path)"
   ],
   "outputs": [],
   "metadata": {}
  },
  {
   "cell_type": "markdown",
   "source": [
    "## Import parser module"
   ],
   "metadata": {}
  },
  {
   "cell_type": "code",
   "execution_count": 2,
   "source": [
    "# Import modules for Jupyter\n",
    "\n",
    "import sys\n",
    "from pathlib import Path\n",
    "\n",
    "# jupyter notebook path\n",
    "module_path = str(Path.cwd().parents[0] / \"modules\")\n",
    "if module_path not in sys.path:\n",
    "    sys.path.append(module_path)\n",
    "\n",
    "from reuters_parser.reuters_parser import ReutersParser"
   ],
   "outputs": [],
   "metadata": {}
  },
  {
   "cell_type": "markdown",
   "source": [
    "## Parse each file in the S3 bucket\n",
    "\n",
    "Read each file in `data/raw/` directory, parse, and store as JSON in `data/clean/` directory."
   ],
   "metadata": {}
  },
  {
   "cell_type": "code",
   "execution_count": 6,
   "source": [
    "import boto3\n",
    "import json"
   ],
   "outputs": [],
   "metadata": {}
  },
  {
   "cell_type": "code",
   "execution_count": 3,
   "source": [
    "# Create s3 client\n",
    "s3 = boto3.client(\"s3\",\n",
    "    region_name=\"us-west-1\",\n",
    ")\n",
    "\n",
    "BUCKET = \"\""
   ],
   "outputs": [],
   "metadata": {}
  },
  {
   "cell_type": "code",
   "execution_count": 4,
   "source": [
    "# Get sgm files from BUCKET/data/raw...\n",
    "\n",
    "DATA_RAW_PREFIX = \"data/raw/\"\n",
    "s3_data_raw_objects = s3.list_objects(\n",
    "    Bucket=BUCKET,\n",
    "    Prefix=DATA_RAW_PREFIX,\n",
    ")[\"Contents\"]\n",
    "\n",
    "s3_data_raw_objects = list(map(lambda x : x[\"Key\"], s3_data_raw_objects))\n",
    "\n",
    "sgm_files = sorted(list(filter(lambda x: \".sgm\" in x, s3_data_raw_objects)))"
   ],
   "outputs": [],
   "metadata": {}
  },
  {
   "cell_type": "code",
   "execution_count": 12,
   "source": [
    "# Parse and structure sgm files, storing each doc as an element in a list\n",
    "\n",
    "parser = ReutersParser()\n",
    "docs = {}\n",
    "for sgm_file in sgm_files:\n",
    "    s3_object = s3.get_object(Bucket=BUCKET, Key=sgm_file)\n",
    "    if s3_object[\"ResponseMetadata\"][\"HTTPStatusCode\"] == 200:\n",
    "        response = s3_object[\"Body\"].read()\n",
    "        parser.parse(response)\n",
    "    docs[sgm_file] = list(map(lambda x: x.to_json(), parser.reuters_factory))"
   ],
   "outputs": [],
   "metadata": {}
  },
  {
   "cell_type": "code",
   "execution_count": 26,
   "source": [
    "DATA_CLEAN_PREFIX = \"data/clean/\"\n",
    "\n",
    "for sgm_file, doc in docs.items():\n",
    "    filename = sgm_file[len(DATA_RAW_PREFIX):sgm_file.find(\".sgm\")]\n",
    "    s3.put_object(\n",
    "        Body=bytes(json.dumps(doc).encode('UTF-8')),\n",
    "        Bucket=BUCKET,\n",
    "        Key=f\"{DATA_CLEAN_PREFIX}{filename}.json\",\n",
    "    )"
   ],
   "outputs": [],
   "metadata": {}
  },
  {
   "cell_type": "code",
   "execution_count": null,
   "source": [],
   "outputs": [],
   "metadata": {}
  }
 ],
 "metadata": {
  "kernelspec": {
   "display_name": "conda_python3",
   "language": "python",
   "name": "conda_python3"
  },
  "language_info": {
   "codemirror_mode": {
    "name": "ipython",
    "version": 3
   },
   "file_extension": ".py",
   "mimetype": "text/x-python",
   "name": "python",
   "nbconvert_exporter": "python",
   "pygments_lexer": "ipython3",
   "version": "3.6.13"
  }
 },
 "nbformat": 4,
 "nbformat_minor": 4
}