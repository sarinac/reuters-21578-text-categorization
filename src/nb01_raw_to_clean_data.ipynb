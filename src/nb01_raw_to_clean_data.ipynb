{
 "cells": [
  {
   "cell_type": "markdown",
   "metadata": {},
   "source": [
    "# Parse Data\n",
    "1. Read each SGML file in the `data/raw` directory of the S3 bucket.\n",
    "2. Parse each file to get the text body, title, topics, and other content.\n",
    "3. Store parsed data as a JSON in the `data/clean` directory of the same S3 bucket."
   ]
  },
  {
   "cell_type": "markdown",
   "metadata": {},
   "source": [
    "## Download data"
   ]
  },
  {
   "cell_type": "code",
   "execution_count": 1,
   "metadata": {},
   "outputs": [],
   "source": [
    "# Unzipped locally\n",
    "# This could be done in S3 instead\n",
    "\n",
    "# import tarfile\n",
    "# import os\n",
    "\n",
    "# TARFILE_NAME = \"Reuters_classification_data.tar.gz\"\n",
    "# FOLDER_NAME = \"raw\"\n",
    "\n",
    "# root_directory = os.path.dirname(os.getcwd()) + \"/data\"\n",
    "# archive_path = os.path.join(root_directory, TARFILE_NAME) \n",
    "# data_path = os.path.join(root_directory, FOLDER_NAME) \n",
    "\n",
    "# Unzip tarfile and put individual text files into the \"data\" folder\n",
    "# tarfile.open(archive_path, 'r:gz').extractall(data_path)"
   ]
  },
  {
   "cell_type": "markdown",
   "metadata": {},
   "source": [
    "## Parse each file in the S3 bucket\n",
    "\n",
    "Read each file in `data/raw/` directory, parse, and store as JSON in `data/clean/` directory."
   ]
  },
  {
   "cell_type": "code",
   "execution_count": 2,
   "metadata": {},
   "outputs": [],
   "source": [
    "import boto3\n",
    "import json\n",
    "\n",
    "from modules.reuters_parser.reuters_parser import ReutersParser\n",
    "from modules.utils.s3 import list_s3, get_from_s3, put_to_s3\n",
    "from constants import BUCKET, DATA_RAW_PREFIX, DATA_CLEAN_PREFIX"
   ]
  },
  {
   "cell_type": "code",
   "execution_count": 4,
   "metadata": {},
   "outputs": [
    {
     "name": "stdout",
     "output_type": "stream",
     "text": [
      "Uploaded file to s3://aiforallcapstone-crimson/data/clean/reut2-000.json\n",
      "Uploaded file to s3://aiforallcapstone-crimson/data/clean/reut2-001.json\n",
      "Uploaded file to s3://aiforallcapstone-crimson/data/clean/reut2-002.json\n",
      "Uploaded file to s3://aiforallcapstone-crimson/data/clean/reut2-003.json\n",
      "Uploaded file to s3://aiforallcapstone-crimson/data/clean/reut2-004.json\n",
      "Uploaded file to s3://aiforallcapstone-crimson/data/clean/reut2-005.json\n",
      "Uploaded file to s3://aiforallcapstone-crimson/data/clean/reut2-006.json\n",
      "Uploaded file to s3://aiforallcapstone-crimson/data/clean/reut2-007.json\n",
      "Uploaded file to s3://aiforallcapstone-crimson/data/clean/reut2-008.json\n",
      "Uploaded file to s3://aiforallcapstone-crimson/data/clean/reut2-009.json\n",
      "Uploaded file to s3://aiforallcapstone-crimson/data/clean/reut2-010.json\n",
      "Uploaded file to s3://aiforallcapstone-crimson/data/clean/reut2-011.json\n",
      "Uploaded file to s3://aiforallcapstone-crimson/data/clean/reut2-012.json\n",
      "Uploaded file to s3://aiforallcapstone-crimson/data/clean/reut2-013.json\n",
      "Uploaded file to s3://aiforallcapstone-crimson/data/clean/reut2-014.json\n",
      "Uploaded file to s3://aiforallcapstone-crimson/data/clean/reut2-015.json\n",
      "Uploaded file to s3://aiforallcapstone-crimson/data/clean/reut2-016.json\n",
      "Uploaded file to s3://aiforallcapstone-crimson/data/clean/reut2-017.json\n",
      "Uploaded file to s3://aiforallcapstone-crimson/data/clean/reut2-018.json\n",
      "Uploaded file to s3://aiforallcapstone-crimson/data/clean/reut2-019.json\n",
      "Uploaded file to s3://aiforallcapstone-crimson/data/clean/reut2-020.json\n",
      "Uploaded file to s3://aiforallcapstone-crimson/data/clean/reut2-021.json\n"
     ]
    }
   ],
   "source": [
    "# Get sgm files from BUCKET/data/raw\n",
    "s3_objects = list_s3(BUCKET, DATA_RAW_PREFIX)\n",
    "sgm_files = sorted(list(filter(lambda x: \".sgm\" in x, s3_objects)))\n",
    "\n",
    "# Parse and structure sgm files, storing each doc as an element in a list\n",
    "for sgm_file in sgm_files:\n",
    "    parser = ReutersParser()\n",
    "    \n",
    "    # Parse file from S3\n",
    "    response = get_from_s3(BUCKET, sgm_file, decode=False)\n",
    "    parser.parse(response)\n",
    "    doc = list(map(lambda x: x.to_json(), parser.reuters_factory))\n",
    "\n",
    "    # Write back to S3\n",
    "    filename = sgm_file[len(DATA_RAW_PREFIX):sgm_file.find(\".sgm\")]\n",
    "    put_to_s3(json.dumps(doc), BUCKET, f\"{DATA_CLEAN_PREFIX}{filename}.json\")"
   ]
  },
  {
   "cell_type": "code",
   "execution_count": null,
   "metadata": {},
   "outputs": [],
   "source": []
  }
 ],
 "metadata": {
  "instance_type": "ml.t3.medium",
  "kernelspec": {
   "display_name": "Python 3 (Data Science)",
   "language": "python",
   "name": "python3__SAGEMAKER_INTERNAL__arn:aws:sagemaker:us-west-1:742091327244:image/datascience-1.0"
  },
  "language_info": {
   "codemirror_mode": {
    "name": "ipython",
    "version": 3
   },
   "file_extension": ".py",
   "mimetype": "text/x-python",
   "name": "python",
   "nbconvert_exporter": "python",
   "pygments_lexer": "ipython3",
   "version": "3.7.10"
  }
 },
 "nbformat": 4,
 "nbformat_minor": 4
}
