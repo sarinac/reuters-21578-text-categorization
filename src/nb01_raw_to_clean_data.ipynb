{
 "cells": [
  {
   "cell_type": "markdown",
   "metadata": {},
   "source": [
    "# Parse Data\n",
    "1. Read each SGML file in the `data/raw` directory of the S3 bucket.\n",
    "2. Parse each file to get the text body, title, topics, and other content.\n",
    "3. Store parsed data as a JSON in the `data/clean` directory of the same S3 bucket."
   ]
  },
  {
   "cell_type": "markdown",
   "metadata": {},
   "source": [
    "## Download data"
   ]
  },
  {
   "cell_type": "code",
   "execution_count": 1,
   "metadata": {},
   "outputs": [],
   "source": [
    "# Unzipped locally\n",
    "# This could be done in S3 instead\n",
    "\n",
    "# import tarfile\n",
    "# import os\n",
    "\n",
    "# TARFILE_NAME = \"Reuters_classification_data.tar.gz\"\n",
    "# FOLDER_NAME = \"raw\"\n",
    "\n",
    "# root_directory = os.path.dirname(os.getcwd()) + \"/data\"\n",
    "# archive_path = os.path.join(root_directory, TARFILE_NAME) \n",
    "# data_path = os.path.join(root_directory, FOLDER_NAME) \n",
    "\n",
    "# Unzip tarfile and put individual text files into the \"data\" folder\n",
    "# tarfile.open(archive_path, 'r:gz').extractall(data_path)"
   ]
  },
  {
   "cell_type": "markdown",
   "metadata": {},
   "source": [
    "## Parse each file in the S3 bucket\n",
    "\n",
    "Read each file in `data/raw/` directory, parse, and store as JSON in `data/clean/` directory."
   ]
  },
  {
   "cell_type": "code",
   "execution_count": 1,
   "metadata": {},
   "outputs": [],
   "source": [
    "import boto3\n",
    "import json\n",
    "\n",
    "from modules.reuters_parser.reuters_parser import ReutersParser\n",
    "from constants import BUCKET, DATA_RAW_PREFIX, DATA_CLEAN_PREFIX"
   ]
  },
  {
   "cell_type": "code",
   "execution_count": 2,
   "metadata": {},
   "outputs": [],
   "source": [
    "# Create s3 client\n",
    "s3 = boto3.client(\"s3\",\n",
    "    region_name=\"us-west-1\",\n",
    ")"
   ]
  },
  {
   "cell_type": "code",
   "execution_count": 3,
   "metadata": {},
   "outputs": [],
   "source": [
    "# Get sgm files from BUCKET/data/raw...\n",
    "\n",
    "s3_data_raw_objects = s3.list_objects(\n",
    "    Bucket=BUCKET,\n",
    "    Prefix=DATA_RAW_PREFIX,\n",
    ")[\"Contents\"]\n",
    "s3_objects = list(map(lambda x: x[\"Key\"], s3_data_raw_objects))\n",
    "\n",
    "sgm_files = sorted(list(filter(lambda x: \".sgm\" in x, s3_objects)))"
   ]
  },
  {
   "cell_type": "code",
   "execution_count": 6,
   "metadata": {},
   "outputs": [],
   "source": [
    "# # Parse and structure sgm files, storing each doc as an element in a list\n",
    "\n",
    "# for sgm_file in sgm_files:\n",
    "#     parser = ReutersParser()\n",
    "    \n",
    "#     s3_object = s3.get_object(Bucket=BUCKET, Key=sgm_file)\n",
    "#     if s3_object[\"ResponseMetadata\"][\"HTTPStatusCode\"] == 200:\n",
    "#         response = s3_object[\"Body\"].read()\n",
    "#         parser.parse(response)\n",
    "#     doc = list(map(lambda x: x.to_json(), parser.reuters_factory))\n",
    "\n",
    "#     filename = sgm_file[len(DATA_RAW_PREFIX):sgm_file.find(\".sgm\")]\n",
    "#     s3.put_object(\n",
    "#         Body=bytes(json.dumps(doc).encode('UTF-8')),\n",
    "#         Bucket=BUCKET,\n",
    "#         Key=f\"{DATA_CLEAN_PREFIX}{filename}.json\",\n",
    "#     )"
   ]
  },
  {
   "cell_type": "code",
   "execution_count": 8,
   "metadata": {},
   "outputs": [
    {
     "name": "stdout",
     "output_type": "stream",
     "text": [
      "Reading data/raw/reut2-000.sgm...\n",
      "Reading data/raw/reut2-001.sgm...\n",
      "Reading data/raw/reut2-002.sgm...\n",
      "Reading data/raw/reut2-003.sgm...\n",
      "Reading data/raw/reut2-004.sgm...\n",
      "Reading data/raw/reut2-005.sgm...\n",
      "Reading data/raw/reut2-006.sgm...\n",
      "Reading data/raw/reut2-007.sgm...\n",
      "Reading data/raw/reut2-008.sgm...\n",
      "Reading data/raw/reut2-009.sgm...\n",
      "Reading data/raw/reut2-010.sgm...\n",
      "Reading data/raw/reut2-011.sgm...\n",
      "Reading data/raw/reut2-012.sgm...\n",
      "Reading data/raw/reut2-013.sgm...\n",
      "Reading data/raw/reut2-014.sgm...\n",
      "Reading data/raw/reut2-015.sgm...\n",
      "Reading data/raw/reut2-016.sgm...\n",
      "Reading data/raw/reut2-017.sgm...\n",
      "Reading data/raw/reut2-018.sgm...\n",
      "Reading data/raw/reut2-019.sgm...\n",
      "Reading data/raw/reut2-020.sgm...\n",
      "Reading data/raw/reut2-021.sgm...\n"
     ]
    },
    {
     "data": {
      "text/plain": [
       "{'ResponseMetadata': {'RequestId': '3EE3CMGY81TM5AJC',\n",
       "  'HostId': 'RFvZg8l8OnKpf59TMSh5wRLq757UJwwDTf9vJ53P2APoCQLHqMAw52OulnDqFnusqhsqX/MlOow=',\n",
       "  'HTTPStatusCode': 200,\n",
       "  'HTTPHeaders': {'x-amz-id-2': 'RFvZg8l8OnKpf59TMSh5wRLq757UJwwDTf9vJ53P2APoCQLHqMAw52OulnDqFnusqhsqX/MlOow=',\n",
       "   'x-amz-request-id': '3EE3CMGY81TM5AJC',\n",
       "   'date': 'Tue, 31 Aug 2021 17:15:19 GMT',\n",
       "   'etag': '\"5c08c0e6cab5ceea9b1be26c0f8bd160\"',\n",
       "   'server': 'AmazonS3',\n",
       "   'content-length': '0'},\n",
       "  'RetryAttempts': 0},\n",
       " 'ETag': '\"5c08c0e6cab5ceea9b1be26c0f8bd160\"'}"
      ]
     },
     "execution_count": 8,
     "metadata": {},
     "output_type": "execute_result"
    }
   ],
   "source": [
    "parser = ReutersParser()\n",
    "\n",
    "# Read each file\n",
    "for sgm_file in sgm_files:\n",
    "    print(f\"Reading {sgm_file}...\")\n",
    "    s3_object = s3.get_object(Bucket=BUCKET, Key=sgm_file)\n",
    "    if s3_object[\"ResponseMetadata\"][\"HTTPStatusCode\"] == 200:\n",
    "        response = s3_object[\"Body\"].read()\n",
    "        parser.parse(response)\n",
    "\n",
    "# Write entire dataset to S3\n",
    "doc = list(map(lambda x: x.to_json(), parser.reuters_factory))\n",
    "filename = \"dataset\"\n",
    "s3.put_object(\n",
    "    Body=bytes(json.dumps(doc).encode('UTF-8')),\n",
    "    Bucket=BUCKET,\n",
    "    Key=f\"{DATA_CLEAN_PREFIX}{filename}.json\",\n",
    ")"
   ]
  },
  {
   "cell_type": "code",
   "execution_count": null,
   "metadata": {},
   "outputs": [],
   "source": []
  }
 ],
 "metadata": {
  "kernelspec": {
   "display_name": "Python 3 (Data Science)",
   "language": "python",
   "name": "python3__SAGEMAKER_INTERNAL__arn:aws:sagemaker:us-west-1:742091327244:image/datascience-1.0"
  },
  "language_info": {
   "codemirror_mode": {
    "name": "ipython",
    "version": 3
   },
   "file_extension": ".py",
   "mimetype": "text/x-python",
   "name": "python",
   "nbconvert_exporter": "python",
   "pygments_lexer": "ipython3",
   "version": "3.7.10"
  }
 },
 "nbformat": 4,
 "nbformat_minor": 4
}
