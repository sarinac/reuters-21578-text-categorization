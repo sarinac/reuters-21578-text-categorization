{
 "cells": [
  {
   "cell_type": "code",
   "execution_count": 15,
   "metadata": {},
   "outputs": [],
   "source": [
    "from modules.utils.s3 import get_from_s3, put_to_s3, list_s3\n",
    "from constants import BUCKET, DATA_CLEAN_PREFIX, DATA_RAW_PREFIX, DATA_PROCESSED_PREFIX\n",
    "import json\n",
    "import re"
   ]
  },
  {
   "cell_type": "code",
   "execution_count": 40,
   "metadata": {},
   "outputs": [],
   "source": [
    "import nltk\n",
    "from nltk.stem import WordNetLemmatizer\n",
    "from nltk.corpus import stopwords\n",
    "from nltk.corpus import wordnet\n",
    "\n",
    "\n",
    "nltk.download('stopwords', quiet=True)\n",
    "nltk.download('wordnet', quiet=True)\n",
    "nltk.download('averaged_perceptron_tagger', quiet=True)\n",
    "\n",
    "lemmatizer = WordNetLemmatizer()\n",
    "\n",
    "def get_wordnet_pos(word: str):\n",
    "    tag = nltk.pos_tag([word])[0][1][0].lower()\n",
    "    return \"v\" if tag in [\"j\", \"r\", \"v\"] else \"n\""
   ]
  },
  {
   "cell_type": "code",
   "execution_count": null,
   "metadata": {},
   "outputs": [],
   "source": [
    "lemmatizer.lemmatize(\"subproducts\", wordnet.NOUN)"
   ]
  },
  {
   "cell_type": "code",
   "execution_count": null,
   "metadata": {},
   "outputs": [],
   "source": [
    "get_wordnet_pos(\"continued\")"
   ]
  },
  {
   "cell_type": "code",
   "execution_count": null,
   "metadata": {},
   "outputs": [],
   "source": [
    "nltk.pos_tag([\"new\"])"
   ]
  },
  {
   "cell_type": "code",
   "execution_count": 248,
   "metadata": {},
   "outputs": [
    {
     "data": {
      "text/plain": [
       "b',0,1,2\\n0,1,2,3\\n1,4,5,6\\n'"
      ]
     },
     "execution_count": 248,
     "metadata": {},
     "output_type": "execute_result"
    }
   ],
   "source": [
    "bytes(pd.DataFrame([[1,2,3],[4,5,6]]).to_csv().encode())"
   ]
  },
  {
   "cell_type": "code",
   "execution_count": 257,
   "metadata": {},
   "outputs": [
    {
     "data": {
      "text/plain": [
       "',0,1,2\\n0,1,2,3\\n1,1,2,3\\n'"
      ]
     },
     "execution_count": 257,
     "metadata": {},
     "output_type": "execute_result"
    }
   ],
   "source": [
    "pd.DataFrame(np.array([[1,2,3], [1,2,3]])).to_csv()"
   ]
  },
  {
   "cell_type": "code",
   "execution_count": 254,
   "metadata": {},
   "outputs": [
    {
     "data": {
      "text/plain": [
       "'[[1, 2, 3],\\n [4, 5, 6]]'"
      ]
     },
     "execution_count": 254,
     "metadata": {},
     "output_type": "execute_result"
    }
   ],
   "source": [
    "np.array2string(np.array([[1,2,3],[4,5,6]]), precision=2, separator=', ')"
   ]
  },
  {
   "cell_type": "code",
   "execution_count": 232,
   "metadata": {},
   "outputs": [
    {
     "data": {
      "text/plain": [
       "b'[[1 2 4]\\n [2 4 5]]'"
      ]
     },
     "execution_count": 232,
     "metadata": {},
     "output_type": "execute_result"
    }
   ],
   "source": [
    "bytes(str(np.array([[1,2,4],[2,4,5]])), encoding=\"UTF-8\")"
   ]
  },
  {
   "cell_type": "code",
   "execution_count": 10,
   "metadata": {},
   "outputs": [],
   "source": [
    "response = get_from_s3(BUCKET, f\"{DATA_CLEAN_PREFIX}dataset.json\")\n",
    "all_entries = json.loads(response)"
   ]
  },
  {
   "cell_type": "code",
   "execution_count": 267,
   "metadata": {},
   "outputs": [],
   "source": [
    "index = 97"
   ]
  },
  {
   "cell_type": "code",
   "execution_count": 268,
   "metadata": {},
   "outputs": [
    {
     "data": {
      "text/plain": [
       "'Shr profit three cts vs loss three cts Net profit 363,000 vs loss 197,000 Revs 3,761,000 vs 2,666,000 Year Shr profit one cent vs loss 37 cts Net profit 129,000 vs loss 1,715,000 Revs 11.4 mln vs 10.9 mln Avg shrs 10,694,081 vs 4,673,253 Reuter '"
      ]
     },
     "execution_count": 268,
     "metadata": {},
     "output_type": "execute_result"
    }
   ],
   "source": [
    "text = all_entries[index][\"body\"]\n",
    "text"
   ]
  },
  {
   "cell_type": "code",
   "execution_count": 195,
   "metadata": {},
   "outputs": [
    {
     "data": {
      "text/plain": [
       "'showers continued throughout the week in the bahia cocoa zone alleviating the drought since early january and improving prospects for the coming temporao although normal humidity levels have not been restored comissaria smith said in its weekly review the dry period means the temporao will be late this year arrivals for the week ended february were bags of kilos making a cumulative total for the season of mln against at the same stage last year again it seems that cocoa delivered earlier on consignment was included in the arrivals figures comissaria smith said there is still some doubt as to how much old crop cocoa is still available as harvesting has practically come to an end with total bahia crop estimates around mln bags and sales standing at almost mln there are a few hundred thousand bags still in the hands of farmers middlemen exporters and processors there are doubts as to how much of this cocoa would be fit for export as shippers are now experiencing dificulties in obtaining bahia superior certificates in view of the lower quality over recent weeks farmers have sold a good part of their cocoa held on consignment comissaria smith said spot bean prices rose to to cruzados per arroba of kilos bean shippers were reluctant to offer nearby shipment and only limited sales were booked for march shipment at to dlrs per tonne to ports to be named new crop sales were also light and all to open ports with june july going at and dlrs and at and dlrs under new york july aug sept at and dlrs per tonne fob routine sales of butter were made march april sold at and dlrs april may butter went at times new york may june july at and dlrs aug sept at to dlrs and at and times new york sept and oct dec at dlrs and times new york dec comissaria smith said destinations were the usa covertible currency areas uruguay and open ports cake sales were registered at to dlrs for march april dlrs for may dlrs for aug and times new york dec for oct dec buyers were the usa argentina uruguay and convertible currency areas liquor sales were limited with march april selling at and dlrs june july at dlrs and at times new york july aug sept at dlrs and at times new york sept and oct dec at times new york dec comissaria smith said total bahia sales are currently estimated at mln bags against the crop and mln bags against the crop final figures for the period to february are expected to be published by the brazilian cocoa trade commission after carnival which ends midday on february reuter '"
      ]
     },
     "execution_count": 195,
     "metadata": {},
     "output_type": "execute_result"
    }
   ],
   "source": [
    "text = all_entries[index][\"body\"]\n",
    "text = text.lower()\n",
    "text = re.sub(r\"[u][\\.][s][\\.]\", \"usa\", text)\n",
    "text = re.sub(r\"\\.\", \"\", text)  # Remove periods, this will squash abbreviations (\"l.p.\" -> \"lp\")\n",
    "text = re.sub(r\"[0-9]\", \"\", text)  # Remove numbers\n",
    "text = re.sub(r\"[\\W_]\", \" \", text)  # Turn any non-alphanumber character into space\n",
    "text = re.sub(r\"\\s+\", r\" \", text)  # Reduce continuous spaces\n",
    "text"
   ]
  },
  {
   "cell_type": "code",
   "execution_count": 196,
   "metadata": {},
   "outputs": [],
   "source": [
    "# # Lower text\n",
    "# text = text.lower()\n",
    "# # Remove white spaces\n",
    "# text = str(text).replace(\"\\n\", \" \")\n",
    "# text = re.sub(r'[^\\w\\s]',' ',text)\n",
    "# # Remove non-alphabetical characters \n",
    "# text = re.sub('[0-9]',\"\",text)\n",
    "# text = re.sub(\" +\", \" \", text)\n",
    "# text = re.sub(\"([^\\x00-\\x7F])+\",\" \",text)\n",
    "# Split into words\n",
    "text = text.split()\n",
    "# Remove stopwords\n",
    "text = [word for word in text if word not in [\"reuter\"] + stopwords.words(\"english\")]"
   ]
  },
  {
   "cell_type": "code",
   "execution_count": 197,
   "metadata": {},
   "outputs": [
    {
     "data": {
      "text/plain": [
       "'showers continued throughout week bahia cocoa zone alleviating drought since early january improving prospects coming temporao although normal humidity levels restored comissaria smith said weekly review dry period means temporao late year arrivals week ended february bags kilos making cumulative total season mln stage last year seems cocoa delivered earlier consignment included arrivals figures comissaria smith said still doubt much old crop cocoa still available harvesting practically come end total bahia crop estimates around mln bags sales standing almost mln hundred thousand bags still hands farmers middlemen exporters processors doubts much cocoa would fit export shippers experiencing dificulties obtaining bahia superior certificates view lower quality recent weeks farmers sold good part cocoa held consignment comissaria smith said spot bean prices rose cruzados per arroba kilos bean shippers reluctant offer nearby shipment limited sales booked march shipment dlrs per tonne ports named new crop sales also light open ports june july going dlrs dlrs new york july aug sept dlrs per tonne fob routine sales butter made march april sold dlrs april may butter went times new york may june july dlrs aug sept dlrs times new york sept oct dec dlrs times new york dec comissaria smith said destinations usa covertible currency areas uruguay open ports cake sales registered dlrs march april dlrs may dlrs aug times new york dec oct dec buyers usa argentina uruguay convertible currency areas liquor sales limited march april selling dlrs june july dlrs times new york july aug sept dlrs times new york sept oct dec times new york dec comissaria smith said total bahia sales currently estimated mln bags crop mln bags crop final figures period february expected published brazilian cocoa trade commission carnival ends midday february'"
      ]
     },
     "execution_count": 197,
     "metadata": {},
     "output_type": "execute_result"
    }
   ],
   "source": [
    "\" \".join(text)"
   ]
  },
  {
   "cell_type": "code",
   "execution_count": 269,
   "metadata": {},
   "outputs": [
    {
     "data": {
      "text/plain": [
       "{'S': 'n',\n",
       " 'h': 'n',\n",
       " 'r': 'n',\n",
       " ' ': 'n',\n",
       " 'p': 'n',\n",
       " 'o': 'n',\n",
       " 'f': 'n',\n",
       " 'i': 'n',\n",
       " 't': 'n',\n",
       " 'e': 'n',\n",
       " 'c': 'n',\n",
       " 's': 'n',\n",
       " 'v': 'n',\n",
       " 'l': 'n',\n",
       " 'N': 'n',\n",
       " '3': 'n',\n",
       " '6': 'n',\n",
       " ',': 'n',\n",
       " '0': 'n',\n",
       " '1': 'n',\n",
       " '9': 'n',\n",
       " '7': 'n',\n",
       " 'R': 'n',\n",
       " '2': 'n',\n",
       " 'Y': 'n',\n",
       " 'a': 'n',\n",
       " 'n': 'n',\n",
       " '5': 'n',\n",
       " '.': 'n',\n",
       " '4': 'n',\n",
       " 'm': 'n',\n",
       " 'A': 'n',\n",
       " 'g': 'n',\n",
       " '8': 'n',\n",
       " 'u': 'n'}"
      ]
     },
     "execution_count": 269,
     "metadata": {},
     "output_type": "execute_result"
    }
   ],
   "source": [
    "# {word: nltk.pos_tag([word])[0][1][0] for word in text}\n",
    "{word: get_wordnet_pos(word) for word in text}"
   ]
  },
  {
   "cell_type": "code",
   "execution_count": 199,
   "metadata": {},
   "outputs": [
    {
     "data": {
      "text/plain": [
       "['shower',\n",
       " 'continue',\n",
       " 'throughout',\n",
       " 'week',\n",
       " 'bahia',\n",
       " 'cocoa',\n",
       " 'zone',\n",
       " 'alleviate',\n",
       " 'drought',\n",
       " 'since',\n",
       " 'early',\n",
       " 'january',\n",
       " 'improve',\n",
       " 'prospect',\n",
       " 'come',\n",
       " 'temporao',\n",
       " 'although',\n",
       " 'normal',\n",
       " 'humidity',\n",
       " 'level',\n",
       " 'restore',\n",
       " 'comissaria',\n",
       " 'smith',\n",
       " 'say',\n",
       " 'weekly',\n",
       " 'review',\n",
       " 'dry',\n",
       " 'period',\n",
       " 'mean',\n",
       " 'temporao',\n",
       " 'late',\n",
       " 'year',\n",
       " 'arrival',\n",
       " 'week',\n",
       " 'end',\n",
       " 'february',\n",
       " 'bag',\n",
       " 'kilo',\n",
       " 'make',\n",
       " 'cumulative',\n",
       " 'total',\n",
       " 'season',\n",
       " 'mln',\n",
       " 'stage',\n",
       " 'last',\n",
       " 'year',\n",
       " 'seem',\n",
       " 'cocoa',\n",
       " 'deliver',\n",
       " 'earlier',\n",
       " 'consignment',\n",
       " 'include',\n",
       " 'arrival',\n",
       " 'figure',\n",
       " 'comissaria',\n",
       " 'smith',\n",
       " 'say',\n",
       " 'still',\n",
       " 'doubt',\n",
       " 'much',\n",
       " 'old',\n",
       " 'crop',\n",
       " 'cocoa',\n",
       " 'still',\n",
       " 'available',\n",
       " 'harvest',\n",
       " 'practically',\n",
       " 'come',\n",
       " 'end',\n",
       " 'total',\n",
       " 'bahia',\n",
       " 'crop',\n",
       " 'estimate',\n",
       " 'around',\n",
       " 'mln',\n",
       " 'bag',\n",
       " 'sale',\n",
       " 'stand',\n",
       " 'almost',\n",
       " 'mln',\n",
       " 'hundred',\n",
       " 'thousand',\n",
       " 'bag',\n",
       " 'still',\n",
       " 'hand',\n",
       " 'farmer',\n",
       " 'middleman',\n",
       " 'exporter',\n",
       " 'processor',\n",
       " 'doubt',\n",
       " 'much',\n",
       " 'cocoa',\n",
       " 'would',\n",
       " 'fit',\n",
       " 'export',\n",
       " 'shipper',\n",
       " 'experience',\n",
       " 'dificulties',\n",
       " 'obtain',\n",
       " 'bahia',\n",
       " 'superior',\n",
       " 'certificate',\n",
       " 'view',\n",
       " 'lower',\n",
       " 'quality',\n",
       " 'recent',\n",
       " 'week',\n",
       " 'farmer',\n",
       " 'sell',\n",
       " 'good',\n",
       " 'part',\n",
       " 'cocoa',\n",
       " 'held',\n",
       " 'consignment',\n",
       " 'comissaria',\n",
       " 'smith',\n",
       " 'say',\n",
       " 'spot',\n",
       " 'bean',\n",
       " 'price',\n",
       " 'rise',\n",
       " 'cruzados',\n",
       " 'per',\n",
       " 'arroba',\n",
       " 'kilo',\n",
       " 'bean',\n",
       " 'shipper',\n",
       " 'reluctant',\n",
       " 'offer',\n",
       " 'nearby',\n",
       " 'shipment',\n",
       " 'limit',\n",
       " 'sale',\n",
       " 'book',\n",
       " 'march',\n",
       " 'shipment',\n",
       " 'dlrs',\n",
       " 'per',\n",
       " 'tonne',\n",
       " 'port',\n",
       " 'name',\n",
       " 'new',\n",
       " 'crop',\n",
       " 'sale',\n",
       " 'also',\n",
       " 'light',\n",
       " 'open',\n",
       " 'port',\n",
       " 'june',\n",
       " 'july',\n",
       " 'go',\n",
       " 'dlrs',\n",
       " 'dlrs',\n",
       " 'new',\n",
       " 'york',\n",
       " 'july',\n",
       " 'aug',\n",
       " 'sept',\n",
       " 'dlrs',\n",
       " 'per',\n",
       " 'tonne',\n",
       " 'fob',\n",
       " 'routine',\n",
       " 'sale',\n",
       " 'butter',\n",
       " 'make',\n",
       " 'march',\n",
       " 'april',\n",
       " 'sell',\n",
       " 'dlrs',\n",
       " 'april',\n",
       " 'may',\n",
       " 'butter',\n",
       " 'go',\n",
       " 'time',\n",
       " 'new',\n",
       " 'york',\n",
       " 'may',\n",
       " 'june',\n",
       " 'july',\n",
       " 'dlrs',\n",
       " 'aug',\n",
       " 'sept',\n",
       " 'dlrs',\n",
       " 'time',\n",
       " 'new',\n",
       " 'york',\n",
       " 'sept',\n",
       " 'oct',\n",
       " 'dec',\n",
       " 'dlrs',\n",
       " 'time',\n",
       " 'new',\n",
       " 'york',\n",
       " 'dec',\n",
       " 'comissaria',\n",
       " 'smith',\n",
       " 'say',\n",
       " 'destination',\n",
       " 'usa',\n",
       " 'covertible',\n",
       " 'currency',\n",
       " 'area',\n",
       " 'uruguay',\n",
       " 'open',\n",
       " 'port',\n",
       " 'cake',\n",
       " 'sale',\n",
       " 'register',\n",
       " 'dlrs',\n",
       " 'march',\n",
       " 'april',\n",
       " 'dlrs',\n",
       " 'may',\n",
       " 'dlrs',\n",
       " 'aug',\n",
       " 'time',\n",
       " 'new',\n",
       " 'york',\n",
       " 'dec',\n",
       " 'oct',\n",
       " 'dec',\n",
       " 'buyer',\n",
       " 'usa',\n",
       " 'argentina',\n",
       " 'uruguay',\n",
       " 'convertible',\n",
       " 'currency',\n",
       " 'area',\n",
       " 'liquor',\n",
       " 'sale',\n",
       " 'limit',\n",
       " 'march',\n",
       " 'april',\n",
       " 'sell',\n",
       " 'dlrs',\n",
       " 'june',\n",
       " 'july',\n",
       " 'dlrs',\n",
       " 'time',\n",
       " 'new',\n",
       " 'york',\n",
       " 'july',\n",
       " 'aug',\n",
       " 'sept',\n",
       " 'dlrs',\n",
       " 'time',\n",
       " 'new',\n",
       " 'york',\n",
       " 'sept',\n",
       " 'oct',\n",
       " 'dec',\n",
       " 'time',\n",
       " 'new',\n",
       " 'york',\n",
       " 'dec',\n",
       " 'comissaria',\n",
       " 'smith',\n",
       " 'say',\n",
       " 'total',\n",
       " 'bahia',\n",
       " 'sale',\n",
       " 'currently',\n",
       " 'estimate',\n",
       " 'mln',\n",
       " 'bag',\n",
       " 'crop',\n",
       " 'mln',\n",
       " 'bag',\n",
       " 'crop',\n",
       " 'final',\n",
       " 'figure',\n",
       " 'period',\n",
       " 'february',\n",
       " 'expect',\n",
       " 'publish',\n",
       " 'brazilian',\n",
       " 'cocoa',\n",
       " 'trade',\n",
       " 'commission',\n",
       " 'carnival',\n",
       " 'end',\n",
       " 'midday',\n",
       " 'february']"
      ]
     },
     "execution_count": 199,
     "metadata": {},
     "output_type": "execute_result"
    }
   ],
   "source": [
    "# Lemmatize\n",
    "text = [lemmatizer.lemmatize(word, get_wordnet_pos(word)) for word in text]\n",
    "text"
   ]
  },
  {
   "cell_type": "code",
   "execution_count": null,
   "metadata": {},
   "outputs": [],
   "source": []
  },
  {
   "cell_type": "code",
   "execution_count": null,
   "metadata": {},
   "outputs": [],
   "source": []
  }
 ],
 "metadata": {
  "instance_type": "ml.t3.medium",
  "kernelspec": {
   "display_name": "Python 3 (Data Science)",
   "language": "python",
   "name": "python3__SAGEMAKER_INTERNAL__arn:aws:sagemaker:us-west-1:742091327244:image/datascience-1.0"
  },
  "language_info": {
   "codemirror_mode": {
    "name": "ipython",
    "version": 3
   },
   "file_extension": ".py",
   "mimetype": "text/x-python",
   "name": "python",
   "nbconvert_exporter": "python",
   "pygments_lexer": "ipython3",
   "version": "3.7.10"
  }
 },
 "nbformat": 4,
 "nbformat_minor": 4
}
